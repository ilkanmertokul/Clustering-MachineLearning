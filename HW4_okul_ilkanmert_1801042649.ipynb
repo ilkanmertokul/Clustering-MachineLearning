{
  "cells": [
    {
      "cell_type": "markdown",
      "source": [
        "# **Homework 4**\n",
        "## **Clustering Techniques**\n",
        "### *İlkan Mert Okul - 1801042649* "
      ],
      "metadata": {
        "id": "xGxz2ZS9scmv"
      }
    },
    {
      "cell_type": "code",
      "source": [
        "from keras.datasets import mnist\n",
        "from sklearn.ensemble import RandomForestRegressor\n",
        "from sklearn.decomposition import PCA\n",
        "from nltk.cluster.kmeans import KMeansClusterer\n",
        "import sklearn.decomposition\n",
        "import matplotlib.pyplot as plt\n",
        "import numpy as np\n",
        "import math\n",
        "import nltk"
      ],
      "outputs": [],
      "execution_count": 231,
      "metadata": {
        "id": "4DDmovQZsV7c"
      }
    },
    {
      "cell_type": "code",
      "source": [
        "(trainX, resX), (trainY, resY) = mnist.load_data()"
      ],
      "outputs": [],
      "execution_count": 232,
      "metadata": {
        "id": "CmNsc2glyn7w"
      }
    },
    {
      "cell_type": "markdown",
      "source": [
        "# **Part 1**\n",
        "## *Apply PCA to MNIST Data*"
      ],
      "metadata": {
        "id": "n4vamIg4sa6I"
      }
    },
    {
      "cell_type": "code",
      "source": [
        "chosenX = trainX\n",
        "chosenY = trainY"
      ],
      "outputs": [],
      "execution_count": 233,
      "metadata": {
        "id": "2epgxB82DH6U"
      }
    },
    {
      "cell_type": "code",
      "source": [
        "chosenX_reformed = []\n",
        "chosenY_reformed = []\n",
        "\n",
        "\n",
        "for x in chosenX:\n",
        "  chosenX_reformed.append(x.flatten())\n",
        "\n",
        "for y in chosenY:\n",
        "  chosenY_reformed.append(x.flatten())"
      ],
      "outputs": [],
      "execution_count": 234,
      "metadata": {
        "id": "t9RIe0w9zi3u"
      }
    },
    {
      "cell_type": "code",
      "source": [
        "pca = PCA(28)\n",
        "pca_data = []\n",
        "\n",
        "pca.fit(chosenX_reformed)"
      ],
      "outputs": [
        {
          "output_type": "execute_result",
          "execution_count": 235,
          "data": {
            "text/plain": "PCA(n_components=28)"
          },
          "metadata": {}
        }
      ],
      "execution_count": 235,
      "metadata": {
        "id": "-4cZji8AtDbg",
        "colab": {
          "base_uri": "https://localhost:8080/"
        },
        "outputId": "c3c7b08b-e38a-4201-d5e2-c2ef8ea4c097"
      }
    },
    {
      "cell_type": "code",
      "source": [
        "trainedX =  pca.transform(chosenX_reformed)\n",
        "trainedY =  pca.transform(chosenY_reformed)"
      ],
      "outputs": [],
      "execution_count": 236,
      "metadata": {
        "id": "uE1eCcfV0UCe"
      }
    },
    {
      "cell_type": "markdown",
      "source": [
        "# **Part 2**\n",
        "## *Clustering*\n"
      ],
      "metadata": {
        "id": "P3saudzT3ruG"
      }
    },
    {
      "cell_type": "code",
      "source": [
        "from sklearn.cluster import KMeans"
      ],
      "outputs": [],
      "execution_count": 237,
      "metadata": {
        "id": "W0gSwnaSOeQi"
      }
    },
    {
      "cell_type": "code",
      "source": [
        "kmeans = KMeans(n_clusters = 10, init = 'k-means++', max_iter = 1000, n_init = 10, random_state = 0).fit(trainedX)"
      ],
      "outputs": [],
      "execution_count": 247,
      "metadata": {
        "id": "t4OibnI3CihN"
      }
    },
    {
      "cell_type": "code",
      "source": [
        "matrix  =[[0,0,0,0,0,0,0,0,0,0],\n",
        "          [0,0,0,0,0,0,0,0,0,0],\n",
        "          [0,0,0,0,0,0,0,0,0,0],\n",
        "          [0,0,0,0,0,0,0,0,0,0],\n",
        "          [0,0,0,0,0,0,0,0,0,0],\n",
        "          [0,0,0,0,0,0,0,0,0,0],\n",
        "          [0,0,0,0,0,0,0,0,0,0],\n",
        "          [0,0,0,0,0,0,0,0,0,0],\n",
        "          [0,0,0,0,0,0,0,0,0,0],\n",
        "          [0,0,0,0,0,0,0,0,0,0]]"
      ],
      "outputs": [],
      "execution_count": 248,
      "metadata": {
        "id": "BMwV11UYMq8l"
      }
    },
    {
      "cell_type": "code",
      "source": [
        "for i in range(0,len(trainedX)):\n",
        "  matrix[resX[i]][kmeans.labels_[i]] += 1"
      ],
      "outputs": [],
      "execution_count": 249,
      "metadata": {
        "id": "1BFhmsbgRrHr"
      }
    },
    {
      "cell_type": "code",
      "source": [
        "i = 0\n",
        "j = 0\n",
        "\n",
        "for mat in matrix:\n",
        "\n",
        "  j = 0\n",
        "  index = 0\n",
        "  maxx = mat[0]\n",
        "\n",
        "  for m in mat:\n",
        "    if maxx < m:\n",
        "      index = j\n",
        "      maxx = m\n",
        "\n",
        "    j +=1\n",
        "\n",
        "  print(f\"{i} -> {index}\")\n",
        "  i +=1"
      ],
      "outputs": [
        {
          "output_type": "stream",
          "name": "stdout",
          "text": "0 -> 2\n1 -> 4\n2 -> 9\n3 -> 7\n4 -> 5\n5 -> 7\n6 -> 8\n7 -> 0\n8 -> 1\n9 -> 5\n"
        }
      ],
      "execution_count": 250,
      "metadata": {
        "colab": {
          "base_uri": "https://localhost:8080/"
        },
        "id": "UIj7d--IR-pM",
        "outputId": "8ed4ee08-27b6-4432-cb12-63b478c10875"
      }
    },
    {
      "cell_type": "code",
      "source": [
        "print(\"Rows are: 0, 1, 2, 3, ... 10\")\n",
        "print(\"Columns are: L0, L1, L2, L3, ... L10\\n\\n\")\n",
        "for x in matrix:\n",
        "  print(x)"
      ],
      "outputs": [
        {
          "output_type": "stream",
          "name": "stdout",
          "text": "Rows are: 0, 1, 2, 3, ... 10\nColumns are: L0, L1, L2, L3, ... L10\n\n\n[16, 177, 2813, 19, 3, 39, 2502, 153, 183, 18]\n[9, 10, 0, 2976, 3719, 5, 0, 6, 8, 9]\n[67, 160, 13, 380, 369, 168, 94, 327, 243, 4137]\n[47, 1047, 16, 103, 438, 176, 127, 3898, 58, 221]\n[1955, 21, 14, 301, 159, 3166, 11, 1, 176, 38]\n[382, 1424, 66, 789, 177, 384, 284, 1771, 128, 16]\n[1, 92, 104, 213, 294, 79, 119, 27, 4913, 76]\n[3738, 12, 15, 280, 337, 1813, 15, 5, 6, 44]\n[190, 3457, 38, 412, 304, 189, 30, 1122, 51, 58]\n[2451, 68, 41, 114, 250, 2900, 19, 86, 7, 13]\n"
        }
      ],
      "execution_count": 255,
      "metadata": {
        "colab": {
          "base_uri": "https://localhost:8080/"
        },
        "id": "rroucF-bCH6z",
        "outputId": "0038830d-1d2d-4946-bf41-3680bcefd1c2"
      }
    },
    {
      "cell_type": "code",
      "source": [
        "labels = kmeans.labels_\n",
        "\n",
        "# check how many of the samples were correctly labeled\n",
        "correct_labels = sum(resX == labels)\n",
        "\n",
        "print(f\"Result is : {correct_labels} / {labels.size}\")\n",
        "print(f\"Accuracy is : {(correct_labels/float(labels.size))}\")"
      ],
      "outputs": [
        {
          "output_type": "stream",
          "name": "stdout",
          "text": "Result is : 873 / 60000\nAccuracy is : 0.01455\n"
        }
      ],
      "execution_count": 258,
      "metadata": {
        "colab": {
          "base_uri": "https://localhost:8080/"
        },
        "id": "_ono6hai_ybw",
        "outputId": "00b62f3f-1031-4a9d-f6a5-ab73dae4e249"
      }
    }
  ],
  "metadata": {
    "colab": {
      "name": "HW4_okul_ilkanmert_1801042649.ipynb",
      "provenance": [],
      "collapsed_sections": []
    },
    "kernelspec": {
      "name": "python3",
      "display_name": "Python 3"
    },
    "language_info": {
      "name": "python"
    },
    "nteract": {
      "version": "nteract-front-end@1.0.0"
    }
  },
  "nbformat": 4,
  "nbformat_minor": 0
}